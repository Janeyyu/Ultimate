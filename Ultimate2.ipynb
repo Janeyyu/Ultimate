{
 "cells": [
  {
   "cell_type": "code",
   "execution_count": 7,
   "id": "0e63cff5",
   "metadata": {},
   "outputs": [
    {
     "data": {
      "text/html": [
       "<div>\n",
       "<style scoped>\n",
       "    .dataframe tbody tr th:only-of-type {\n",
       "        vertical-align: middle;\n",
       "    }\n",
       "\n",
       "    .dataframe tbody tr th {\n",
       "        vertical-align: top;\n",
       "    }\n",
       "\n",
       "    .dataframe thead th {\n",
       "        text-align: right;\n",
       "    }\n",
       "</style>\n",
       "<table border=\"1\" class=\"dataframe\">\n",
       "  <thead>\n",
       "    <tr style=\"text-align: right;\">\n",
       "      <th></th>\n",
       "      <th>city</th>\n",
       "      <th>trips_in_first_30_days</th>\n",
       "      <th>signup_date</th>\n",
       "      <th>avg_rating_of_driver</th>\n",
       "      <th>avg_surge</th>\n",
       "      <th>last_trip_date</th>\n",
       "      <th>phone</th>\n",
       "      <th>surge_pct</th>\n",
       "      <th>ultimate_black_user</th>\n",
       "      <th>weekday_pct</th>\n",
       "      <th>avg_dist</th>\n",
       "      <th>avg_rating_by_driver</th>\n",
       "    </tr>\n",
       "  </thead>\n",
       "  <tbody>\n",
       "    <tr>\n",
       "      <th>0</th>\n",
       "      <td>King's Landing</td>\n",
       "      <td>4</td>\n",
       "      <td>2014-01-25</td>\n",
       "      <td>4.7</td>\n",
       "      <td>1.10</td>\n",
       "      <td>2014-06-17</td>\n",
       "      <td>iPhone</td>\n",
       "      <td>15.4</td>\n",
       "      <td>True</td>\n",
       "      <td>46.2</td>\n",
       "      <td>3.67</td>\n",
       "      <td>5.0</td>\n",
       "    </tr>\n",
       "    <tr>\n",
       "      <th>1</th>\n",
       "      <td>Astapor</td>\n",
       "      <td>0</td>\n",
       "      <td>2014-01-29</td>\n",
       "      <td>5.0</td>\n",
       "      <td>1.00</td>\n",
       "      <td>2014-05-05</td>\n",
       "      <td>Android</td>\n",
       "      <td>0.0</td>\n",
       "      <td>False</td>\n",
       "      <td>50.0</td>\n",
       "      <td>8.26</td>\n",
       "      <td>5.0</td>\n",
       "    </tr>\n",
       "    <tr>\n",
       "      <th>2</th>\n",
       "      <td>Astapor</td>\n",
       "      <td>3</td>\n",
       "      <td>2014-01-06</td>\n",
       "      <td>4.3</td>\n",
       "      <td>1.00</td>\n",
       "      <td>2014-01-07</td>\n",
       "      <td>iPhone</td>\n",
       "      <td>0.0</td>\n",
       "      <td>False</td>\n",
       "      <td>100.0</td>\n",
       "      <td>0.77</td>\n",
       "      <td>5.0</td>\n",
       "    </tr>\n",
       "    <tr>\n",
       "      <th>3</th>\n",
       "      <td>King's Landing</td>\n",
       "      <td>9</td>\n",
       "      <td>2014-01-10</td>\n",
       "      <td>4.6</td>\n",
       "      <td>1.14</td>\n",
       "      <td>2014-06-29</td>\n",
       "      <td>iPhone</td>\n",
       "      <td>20.0</td>\n",
       "      <td>True</td>\n",
       "      <td>80.0</td>\n",
       "      <td>2.36</td>\n",
       "      <td>4.9</td>\n",
       "    </tr>\n",
       "    <tr>\n",
       "      <th>4</th>\n",
       "      <td>Winterfell</td>\n",
       "      <td>14</td>\n",
       "      <td>2014-01-27</td>\n",
       "      <td>4.4</td>\n",
       "      <td>1.19</td>\n",
       "      <td>2014-03-15</td>\n",
       "      <td>Android</td>\n",
       "      <td>11.8</td>\n",
       "      <td>False</td>\n",
       "      <td>82.4</td>\n",
       "      <td>3.13</td>\n",
       "      <td>4.9</td>\n",
       "    </tr>\n",
       "  </tbody>\n",
       "</table>\n",
       "</div>"
      ],
      "text/plain": [
       "             city  trips_in_first_30_days signup_date  avg_rating_of_driver  \\\n",
       "0  King's Landing                       4  2014-01-25                   4.7   \n",
       "1         Astapor                       0  2014-01-29                   5.0   \n",
       "2         Astapor                       3  2014-01-06                   4.3   \n",
       "3  King's Landing                       9  2014-01-10                   4.6   \n",
       "4      Winterfell                      14  2014-01-27                   4.4   \n",
       "\n",
       "   avg_surge last_trip_date    phone  surge_pct  ultimate_black_user  \\\n",
       "0       1.10     2014-06-17   iPhone       15.4                 True   \n",
       "1       1.00     2014-05-05  Android        0.0                False   \n",
       "2       1.00     2014-01-07   iPhone        0.0                False   \n",
       "3       1.14     2014-06-29   iPhone       20.0                 True   \n",
       "4       1.19     2014-03-15  Android       11.8                False   \n",
       "\n",
       "   weekday_pct  avg_dist  avg_rating_by_driver  \n",
       "0         46.2      3.67                   5.0  \n",
       "1         50.0      8.26                   5.0  \n",
       "2        100.0      0.77                   5.0  \n",
       "3         80.0      2.36                   4.9  \n",
       "4         82.4      3.13                   4.9  "
      ]
     },
     "execution_count": 7,
     "metadata": {},
     "output_type": "execute_result"
    }
   ],
   "source": [
    "import pandas as pd\n",
    "import pandas as pd\n",
    "import numpy as np\n",
    "import matplotlib.pyplot as plt\n",
    "%matplotlib inline\n",
    "plt.rcParams['patch.force_edgecolor'] = True\n",
    "import seaborn as sns\n",
    "plt.style.use('fivethirtyeight')\n",
    "sns.set()\n",
    "data = pd.read_json('ultimate_data_challenge.json')\n",
    "data.head()"
   ]
  },
  {
   "cell_type": "code",
   "execution_count": 8,
   "id": "f70c38a7",
   "metadata": {},
   "outputs": [
    {
     "name": "stdout",
     "output_type": "stream",
     "text": [
      "Range of sign up dates is between 2014-01-01 00:00:00 and 2014-01-31 00:00:00\n"
     ]
    }
   ],
   "source": [
    "data['last_trip_date'] = pd.to_datetime(data['last_trip_date'])\n",
    "data['signup_date'] = pd.to_datetime(data['signup_date'])\n",
    "print('Range of sign up dates is between {} and {}'\n",
    "     .format(data['signup_date'].min(), data['signup_date'].max()))\n"
   ]
  },
  {
   "cell_type": "code",
   "execution_count": 9,
   "id": "08a10b28",
   "metadata": {},
   "outputs": [
    {
     "name": "stdout",
     "output_type": "stream",
     "text": [
      "Out of 50000 users, 18804 were still active in their 6th month.\n"
     ]
    }
   ],
   "source": [
    "data.drop(['last_trip_date', 'signup_date'], axis=1, inplace=True)\n",
    "data['ultimate_black_user'] = data['ultimate_black_user'].astype(int)\n",
    "data['retained'] = data['retained'].astype(int)\n",
    "print('Out of {} users, {} were still active in their 6th month.'\n",
    "     .format(len(data), data['retained'].sum()))"
   ]
  },
  {
   "cell_type": "code",
   "execution_count": 10,
   "id": "5543b188",
   "metadata": {},
   "outputs": [
    {
     "data": {
      "text/plain": [
       "trips_in_first_30_days    0.210463\n",
       "avg_rating_of_driver     -0.011653\n",
       "avg_surge                -0.003333\n",
       "surge_pct                 0.011797\n",
       "ultimate_black_user       0.205002\n",
       "weekday_pct               0.009693\n",
       "avg_dist                 -0.092780\n",
       "avg_rating_by_driver     -0.026791\n",
       "retained                  1.000000\n",
       "Name: retained, dtype: float64"
      ]
     },
     "execution_count": 10,
     "metadata": {},
     "output_type": "execute_result"
    }
   ],
   "source": [
    "data.corr()['retained']"
   ]
  },
  {
   "cell_type": "code",
   "execution_count": 11,
   "id": "a7b8eb57",
   "metadata": {},
   "outputs": [
    {
     "data": {
      "image/png": "[encoded data removed]",
      "text/plain": [
       "<Figure size 432x288 with 1 Axes>"
      ]
     },
     "metadata": {},
     "output_type": "display_data"
    }
   ],
   "source": [
    "# Visualize some of them.\n",
    "retained = data.loc[data.retained==1]\n",
    "not_retained = data.loc[data.retained==0]\n",
    "_ = plt.hist(retained['trips_in_first_30_days'], bins=50, alpha=0.5, label='Retained')\n",
    "_ = plt.hist(not_retained['trips_in_first_30_days'], bins=50, alpha=0.5, label='Not retained')\n",
    "_ = plt.xlabel('Trips in first 30 days')\n",
    "_ = plt.ylabel('No. of users')\n",
    "_ = plt.xlim([0,80])\n",
    "_ = plt.yscale('log')\n",
    "_ = plt.legend()"
   ]
  },
  {
   "cell_type": "code",
   "execution_count": 12,
   "id": "76c0fe0a",
   "metadata": {},
   "outputs": [
    {
     "data": {
      "image/png": "[encoded data removed]",
      "text/plain": [
       "<Figure size 432x288 with 1 Axes>"
      ]
     },
     "metadata": {},
     "output_type": "display_data"
    }
   ],
   "source": [
    "_ = sns.countplot(x='ultimate_black_user', hue='retained', data=data)\n",
    "_ = plt.legend(['Not retained', 'Retained'])\n",
    "_ = plt.ylabel('No. of users')\n",
    "_ = plt.xticks([0,1],['No','Yes'])"
   ]
  },
  {
   "cell_type": "code",
   "execution_count": 13,
   "id": "19ea2913",
   "metadata": {},
   "outputs": [
    {
     "name": "stdout",
     "output_type": "stream",
     "text": [
      "chi2 = 2100.4182024974366\tp = 0.0\n"
     ]
    }
   ],
   "source": [
    "# Chi-square test\n",
    "from scipy.stats import chi2_contingency\n",
    "crosstab = pd.crosstab(data['ultimate_black_user'], data['retained'])\n",
    "results = chi2_contingency(crosstab)\n",
    "print('chi2 = {}\\tp = {}'.format(results[0], results[1]))"
   ]
  },
  {
   "cell_type": "code",
   "execution_count": 14,
   "id": "0c6353b6",
   "metadata": {},
   "outputs": [
    {
     "data": {
      "image/png": "[encoded data removed]",
      "text/plain": [
       "<Figure size 432x288 with 1 Axes>"
      ]
     },
     "metadata": {},
     "output_type": "display_data"
    }
   ],
   "source": [
    "# Visualize the two categorical features, city and phone\n",
    "_ = sns.countplot(x='city', hue='retained', data=data)\n",
    "_ = plt.legend(['Not retained', 'Retained'], bbox_to_anchor=(1,1))\n",
    "_ = plt.ylabel('No. of users')"
   ]
  },
  {
   "cell_type": "code",
   "execution_count": 15,
   "id": "58bbd892",
   "metadata": {},
   "outputs": [
    {
     "name": "stdout",
     "output_type": "stream",
     "text": [
      "chi2 = 3821.5510225559638\tp = 0.0\n"
     ]
    }
   ],
   "source": [
    "# Chi-square test\n",
    "from scipy.stats import chi2_contingency\n",
    "crosstab = pd.crosstab(data['city'], data['retained'])\n",
    "results = chi2_contingency(crosstab)\n",
    "print('chi2 = {}\\tp = {}'.format(results[0], results[1]))"
   ]
  },
  {
   "cell_type": "code",
   "execution_count": 16,
   "id": "d66266fd",
   "metadata": {},
   "outputs": [
    {
     "data": {
      "image/png": "[encoded data removed]",
      "text/plain": [
       "<Figure size 432x288 with 1 Axes>"
      ]
     },
     "metadata": {},
     "output_type": "display_data"
    }
   ],
   "source": [
    "# Phone\n",
    "_ = sns.countplot(x='phone', hue='retained', data=data)\n",
    "_ = plt.legend(['Not retained', 'Retained'])\n",
    "_ = plt.ylabel('No. of users')"
   ]
  },
  {
   "cell_type": "code",
   "execution_count": 17,
   "id": "5bee4438",
   "metadata": {},
   "outputs": [
    {
     "name": "stdout",
     "output_type": "stream",
     "text": [
      "chi2 = 2558.3942122674252\tp = 0.0\n"
     ]
    }
   ],
   "source": [
    "from scipy.stats import chi2_contingency\n",
    "crosstab = pd.crosstab(data['phone'], data['retained'])\n",
    "results = chi2_contingency(crosstab)\n",
    "print('chi2 = {}\\tp = {}'.format(results[0], results[1]))"
   ]
  },
  {
   "cell_type": "code",
   "execution_count": 18,
   "id": "d783bf1d",
   "metadata": {},
   "outputs": [
    {
     "name": "stdout",
     "output_type": "stream",
     "text": [
      "<class 'pandas.core.frame.DataFrame'>\n",
      "RangeIndex: 50000 entries, 0 to 49999\n",
      "Data columns (total 11 columns):\n",
      " #   Column                  Non-Null Count  Dtype  \n",
      "---  ------                  --------------  -----  \n",
      " 0   city                    50000 non-null  object \n",
      " 1   trips_in_first_30_days  50000 non-null  int64  \n",
      " 2   avg_rating_of_driver    41878 non-null  float64\n",
      " 3   avg_surge               50000 non-null  float64\n",
      " 4   phone                   49604 non-null  object \n",
      " 5   surge_pct               50000 non-null  float64\n",
      " 6   ultimate_black_user     50000 non-null  int64  \n",
      " 7   weekday_pct             50000 non-null  float64\n",
      " 8   avg_dist                50000 non-null  float64\n",
      " 9   avg_rating_by_driver    49799 non-null  float64\n",
      " 10  retained                50000 non-null  int64  \n",
      "dtypes: float64(6), int64(3), object(2)\n",
      "memory usage: 4.2+ MB\n"
     ]
    }
   ],
   "source": [
    "data.info()"
   ]
  },
  {
   "cell_type": "code",
   "execution_count": 19,
   "id": "25035968",
   "metadata": {},
   "outputs": [],
   "source": [
    "data.fillna({'avg_rating_by_driver':data['avg_rating_by_driver'].mean()}, inplace=True)\n",
    "data.fillna({'avg_rating_of_driver':data['avg_rating_of_driver'].mean()}, inplace=True)\n",
    "data.dropna(inplace=True)"
   ]
  },
  {
   "cell_type": "code",
   "execution_count": 20,
   "id": "7194cf3a",
   "metadata": {},
   "outputs": [
    {
     "data": {
      "text/html": [
       "<div>\n",
       "<style scoped>\n",
       "    .dataframe tbody tr th:only-of-type {\n",
       "        vertical-align: middle;\n",
       "    }\n",
       "\n",
       "    .dataframe tbody tr th {\n",
       "        vertical-align: top;\n",
       "    }\n",
       "\n",
       "    .dataframe thead th {\n",
       "        text-align: right;\n",
       "    }\n",
       "</style>\n",
       "<table border=\"1\" class=\"dataframe\">\n",
       "  <thead>\n",
       "    <tr style=\"text-align: right;\">\n",
       "      <th></th>\n",
       "      <th>trips_in_first_30_days</th>\n",
       "      <th>avg_rating_of_driver</th>\n",
       "      <th>avg_surge</th>\n",
       "      <th>surge_pct</th>\n",
       "      <th>ultimate_black_user</th>\n",
       "      <th>weekday_pct</th>\n",
       "      <th>avg_dist</th>\n",
       "      <th>avg_rating_by_driver</th>\n",
       "      <th>iphone</th>\n",
       "      <th>King's Landing</th>\n",
       "      <th>Winterfell</th>\n",
       "    </tr>\n",
       "  </thead>\n",
       "  <tbody>\n",
       "    <tr>\n",
       "      <th>0</th>\n",
       "      <td>0.454159</td>\n",
       "      <td>0.174300</td>\n",
       "      <td>0.112318</td>\n",
       "      <td>0.326417</td>\n",
       "      <td>1.290412</td>\n",
       "      <td>-0.395941</td>\n",
       "      <td>-0.373113</td>\n",
       "      <td>0.497826</td>\n",
       "      <td>0.659081</td>\n",
       "      <td>1.981887</td>\n",
       "      <td>-0.934523</td>\n",
       "    </tr>\n",
       "    <tr>\n",
       "      <th>1</th>\n",
       "      <td>-0.600342</td>\n",
       "      <td>0.705065</td>\n",
       "      <td>-0.336789</td>\n",
       "      <td>-0.444014</td>\n",
       "      <td>-0.774946</td>\n",
       "      <td>-0.293477</td>\n",
       "      <td>0.436461</td>\n",
       "      <td>0.497826</td>\n",
       "      <td>-1.517264</td>\n",
       "      <td>-0.504570</td>\n",
       "      <td>-0.934523</td>\n",
       "    </tr>\n",
       "    <tr>\n",
       "      <th>2</th>\n",
       "      <td>0.190534</td>\n",
       "      <td>-0.533387</td>\n",
       "      <td>-0.336789</td>\n",
       "      <td>-0.444014</td>\n",
       "      <td>-0.774946</td>\n",
       "      <td>1.054746</td>\n",
       "      <td>-0.884608</td>\n",
       "      <td>0.497826</td>\n",
       "      <td>0.659081</td>\n",
       "      <td>-0.504570</td>\n",
       "      <td>-0.934523</td>\n",
       "    </tr>\n",
       "    <tr>\n",
       "      <th>3</th>\n",
       "      <td>1.772286</td>\n",
       "      <td>-0.002622</td>\n",
       "      <td>0.291961</td>\n",
       "      <td>0.556545</td>\n",
       "      <td>1.290412</td>\n",
       "      <td>0.515457</td>\n",
       "      <td>-0.604167</td>\n",
       "      <td>0.273719</td>\n",
       "      <td>0.659081</td>\n",
       "      <td>1.981887</td>\n",
       "      <td>-0.934523</td>\n",
       "    </tr>\n",
       "    <tr>\n",
       "      <th>4</th>\n",
       "      <td>3.090412</td>\n",
       "      <td>-0.356465</td>\n",
       "      <td>0.516515</td>\n",
       "      <td>0.146316</td>\n",
       "      <td>-0.774946</td>\n",
       "      <td>0.580172</td>\n",
       "      <td>-0.468357</td>\n",
       "      <td>0.273719</td>\n",
       "      <td>-1.517264</td>\n",
       "      <td>-0.504570</td>\n",
       "      <td>1.070064</td>\n",
       "    </tr>\n",
       "  </tbody>\n",
       "</table>\n",
       "</div>"
      ],
      "text/plain": [
       "   trips_in_first_30_days  avg_rating_of_driver  avg_surge  surge_pct  \\\n",
       "0                0.454159              0.174300   0.112318   0.326417   \n",
       "1               -0.600342              0.705065  -0.336789  -0.444014   \n",
       "2                0.190534             -0.533387  -0.336789  -0.444014   \n",
       "3                1.772286             -0.002622   0.291961   0.556545   \n",
       "4                3.090412             -0.356465   0.516515   0.146316   \n",
       "\n",
       "   ultimate_black_user  weekday_pct  avg_dist  avg_rating_by_driver    iphone  \\\n",
       "0             1.290412    -0.395941 -0.373113              0.497826  0.659081   \n",
       "1            -0.774946    -0.293477  0.436461              0.497826 -1.517264   \n",
       "2            -0.774946     1.054746 -0.884608              0.497826  0.659081   \n",
       "3             1.290412     0.515457 -0.604167              0.273719  0.659081   \n",
       "4            -0.774946     0.580172 -0.468357              0.273719 -1.517264   \n",
       "\n",
       "   King's Landing  Winterfell  \n",
       "0        1.981887   -0.934523  \n",
       "1       -0.504570   -0.934523  \n",
       "2       -0.504570   -0.934523  \n",
       "3        1.981887   -0.934523  \n",
       "4       -0.504570    1.070064  "
      ]
     },
     "execution_count": 20,
     "metadata": {},
     "output_type": "execute_result"
    }
   ],
   "source": [
    "target = data['retained']\n",
    "data.drop('retained', axis=1, inplace=True)\n",
    "data['iphone'] = pd.get_dummies(data['phone'], drop_first=True)\n",
    "data.drop('phone', axis=1, inplace=True)\n",
    "data = pd.concat([data, pd.get_dummies(data['city'], drop_first=True)], axis=1)\n",
    "data.drop('city', axis=1, inplace=True)\n",
    "# Sclae the features\n",
    "from sklearn.preprocessing import scale\n",
    "scaled_data = pd.DataFrame(scale(data))\n",
    "scaled_data.columns = data.columns\n",
    "scaled_data.head()"
   ]
  },
  {
   "cell_type": "code",
   "execution_count": 21,
   "id": "26136292",
   "metadata": {},
   "outputs": [],
   "source": [
    "from sklearn.model_selection import train_test_split\n",
    "Xtrain, Xtest, ytrain, ytest = train_test_split(scaled_data, target, random_state=42)"
   ]
  },
  {
   "cell_type": "code",
   "execution_count": 25,
   "id": "b0a48dcf",
   "metadata": {},
   "outputs": [
    {
     "name": "stdout",
     "output_type": "stream",
     "text": [
      "Best parameters were {'C': 0.001, 'penalty': 'l2'}\n",
      "Best accuracy was 0.7186248668738882\n"
     ]
    }
   ],
   "source": [
    "from sklearn.linear_model import LogisticRegression\n",
    "from sklearn.model_selection import GridSearchCV\n",
    "import warnings\n",
    "warnings.filterwarnings('ignore')\n",
    "clf = LogisticRegression(random_state=42)\n",
    "params = {\n",
    "    'C': [1e-5, 1e-4, 0.001, 0.01, 0.1],\n",
    "    'penalty': ['l1', 'l2']\n",
    "}\n",
    "model = GridSearchCV(clf, params, scoring='accuracy')\n",
    "model.fit(Xtrain, ytrain)\n",
    "print('Best parameters were', model.best_params_)\n",
    "print('Best accuracy was', model.best_score_)"
   ]
  },
  {
   "cell_type": "code",
   "execution_count": 23,
   "id": "2f2c8dbc",
   "metadata": {},
   "outputs": [
    {
     "name": "stdout",
     "output_type": "stream",
     "text": [
      "Accuracy of test set was 0.6886541407950971\n",
      "\n",
      "              precision    recall  f1-score   support\n",
      "\n",
      "           0       0.68      0.96      0.79      7750\n",
      "           1       0.78      0.24      0.36      4651\n",
      "\n",
      "    accuracy                           0.69     12401\n",
      "   macro avg       0.73      0.60      0.58     12401\n",
      "weighted avg       0.72      0.69      0.63     12401\n",
      "\n",
      "True Negative = 7436\tFalse Positive = 314\n",
      "False Negative = 3547\tTrue Positive=1104\n"
     ]
    }
   ],
   "source": [
    "# Evaluate model using test sets\n",
    "from sklearn.metrics import classification_report, accuracy_score, confusion_matrix\n",
    "logreg = LogisticRegression(C=0.0001, penalty='l2', random_state=42)\n",
    "logreg.fit(Xtrain, ytrain)\n",
    "ypred = logreg.predict(Xtest)\n",
    "print('Accuracy of test set was {}\\n'.format(accuracy_score(ytest, ypred)))\n",
    "print(classification_report(ytest, ypred))\n",
    "tn, fp, fn, tp = confusion_matrix(ytest, ypred).ravel()\n",
    "print('True Negative = {}\\tFalse Positive = {}\\nFalse Negative = {}\\tTrue Positive={}'\n",
    "     .format(tn,fp,fn,tp))"
   ]
  },
  {
   "cell_type": "code",
   "execution_count": 24,
   "id": "8df7b64e",
   "metadata": {},
   "outputs": [
    {
     "data": {
      "image/png": "[encoded data removed]",
      "text/plain": [
       "<Figure size 432x288 with 1 Axes>"
      ]
     },
     "metadata": {},
     "output_type": "display_data"
    }
   ],
   "source": [
    "coefs = pd.Series(logreg.coef_.reshape(-1), index=scaled_data.columns)\n",
    "coefs = coefs[coefs.abs().sort_values(ascending=False).index]\n",
    "_ = plt.bar(range(len(coefs)), coefs)\n",
    "_ = plt.xticks(range(len(coefs)), coefs.index, rotation=90)\n",
    "_ = plt.xlabel('Features', fontsize=16)\n",
    "_ = plt.ylabel(\"Coefficients\", fontsize=16)\n",
    "_ = plt.xticks(fontsize=12)\n",
    "_ = plt.yticks(fontsize=12)"
   ]
  },
  {
   "cell_type": "markdown",
   "id": "5f591fc5",
   "metadata": {},
   "source": [
    "As we can see here, different phone type can have important affect retention rate, as customers might have different user experiences with different phone types.\n",
    "Trips_in_first_30_days can also postively affect the retention rate, as maybe the more trips customers take, the more they might rely on this service, and more accept it with their finance budget.\n",
    "People in different city can also affect the retention rate.\n",
    "Therefore, my recommendation is try to boost retention by giving different type of introductory discounts to new users in the first 30 days to let them get this service as part of their life, so we can increase rentention rate, and try to improve user experience with better app design on using the service no matter with what phone type, which can also improve the retention rate. Also, we might take different actions on people at different cities, we can maybe also do a segementation to see what factors are more important for different cities.\n"
   ]
  },
  {
   "cell_type": "code",
   "execution_count": null,
   "id": "9ed92de7",
   "metadata": {},
   "outputs": [],
   "source": []
  }
 ],
 "metadata": {
  "kernelspec": {
   "display_name": "Python 3",
   "language": "python",
   "name": "python3"
  },
  "language_info": {
   "codemirror_mode": {
    "name": "ipython",
    "version": 3
   },
   "file_extension": ".py",
   "mimetype": "text/x-python",
   "name": "python",
   "nbconvert_exporter": "python",
   "pygments_lexer": "ipython3",
   "version": "3.8.3"
  }
 },
 "nbformat": 4,
 "nbformat_minor": 5
}
